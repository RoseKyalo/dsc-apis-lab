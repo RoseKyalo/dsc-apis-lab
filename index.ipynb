{
 "cells": [
  {
   "cell_type": "markdown",
   "metadata": {},
   "source": [
    "# APIs - Cumulative Lab\n",
    "\n",
    "\n",
    "## Introduction \n",
    "\n",
    "We've seen how the Yelp API works and how to create basic visualizations using Folium. It's time to put those skills to work in order to create a working map! Taking things a step further, you'll also independently explore how to perform pagination in order to retrieve a full results set from the Yelp API.\n",
    "\n",
    "## Objectives\n",
    "\n",
    "You will be able to: \n",
    "\n",
    "* Practice using functions to organize your code\n",
    "* Use pagination to retrieve all results from an API query\n",
    "* Practice parsing data returned from an API query\n",
    "* Practice interpreting visualizations of a dataset\n",
    "* Create maps using Folium"
   ]
  },
  {
   "cell_type": "markdown",
   "metadata": {},
   "source": [
    "## Your Task: Query Yelp for All Businesses in a Category and Analyze the Results\n",
    "\n",
    "![restaurant counter with pizza](images/restaurant_counter.jpg)\n",
    "\n",
    "Photo by <a href=\"https://unsplash.com/@jordanmadrid?utm_source=unsplash&utm_medium=referral&utm_content=creditCopyText\">Jordan Madrid</a> on <a href=\"/s/photos/pizza-restaurant?utm_source=unsplash&utm_medium=referral&utm_content=creditCopyText\">Unsplash</a>"
   ]
  },
  {
   "cell_type": "markdown",
   "metadata": {},
   "source": [
    "### Overview\n",
    "\n",
    "You've now worked with some API calls, but we have yet to see how to retrieve a more complete dataset in a programmatic manner. In this lab, you will write a query of businesses on Yelp, then use *pagination* to retrieve all possible results for that query. Then you will create a summary of your findings, including a Folium map of the geographic locations of those businesses.\n",
    "\n",
    "### Technical Details\n",
    "\n",
    "Returning to the Yelp API, the [documentation](https://www.yelp.com/developers/documentation/v3/business_search) also provides us details regarding the **API limits**. These often include details about the number of requests a user is allowed to make within a specified time limit and the maximum number of results to be returned. In this case, we are told that any request has a **maximum of 50 results per request** and defaults to 20. Furthermore, any search will be limited to a **total of 1000 results**. To retrieve all 1000 of these results, we would have to page through the results piece by piece, retrieving 50 at a time. Processes such as these are often referred to as pagination.\n",
    "\n",
    "Also, be mindful of the **API** ***rate*** **limits**. You can only make **5000 requests per day** and can make requests too fast. Start prototyping small before running a loop that could be faulty. You can also use `time.sleep(n)` to add delays. For more details see https://www.yelp.com/developers/documentation/v3/rate_limiting.\n",
    "\n",
    "In this lab, you will define a search and then paginate over the results to retrieve all of the results. You'll then parse these responses as a list of dictionaries (for further exploration) and create a map using Folium to visualize the results geographically.\n",
    "\n",
    "### Requirements\n",
    "\n",
    "#### 1. Make the Initial Request\n",
    "\n",
    "Start by filling in your API key to make the initial request to the business search API. Investigate the structure of the response you get back and start figuring out how you will extract the relevant information.\n",
    "\n",
    "#### 2. Add Pagination\n",
    "\n",
    "Using loops and functions, collect the maximum number of results for your query from the API.\n",
    "\n",
    "#### 3. Perform Exploratory Analysis\n",
    "\n",
    "Interpret visualizations related to the price range, average rating, and number of reviews for all query results.\n",
    "\n",
    "#### 4. Create a Folium Map\n",
    "\n",
    "Using latitude and longitude data, plot the query results on an interactive map."
   ]
  },
  {
   "cell_type": "markdown",
   "metadata": {},
   "source": [
    "## 1. Make the Initial Request\n",
    "\n",
    "### Querying\n",
    "\n",
    "Start by making an initial request to the Yelp API. Your search must include at least 2 parameters: **term** and **location**. For example, you might search for pizza restaurants in NYC. The term and location is up to you but make the request below.\n",
    "\n",
    "Use the `requests` library ([documentation here](https://requests.readthedocs.io/en/master/user/quickstart/#make-a-request)).\n",
    "\n",
    "You'll also need an API key from Yelp. If you haven't done this already, go to the Yelp [Manage App page](https://www.yelp.com/developers/v3/manage_app) and create a new app (after making an account if you haven't already)."
   ]
  },
  {
   "cell_type": "code",
   "execution_count": 1,
   "metadata": {},
   "outputs": [
    {
     "data": {
      "text/plain": [
       "<Response [200]>"
      ]
     },
     "execution_count": 1,
     "metadata": {},
     "output_type": "execute_result"
    }
   ],
   "source": [
    "# Import the requests library\n",
    "import requests\n",
    "import json\n",
    "\n",
    "# Get this from the \"Manage App\" page. Make sure you set them\n",
    "# back to None before pushing this to GitHub, since otherwise\n",
    "# your credentials will be compromised\n",
    "\n",
    "def get_key(path):\n",
    "    with open(path) as f:\n",
    "        return json.load(f)\n",
    "        \n",
    "keys = get_key(\"C:\\\\Users\\\\user\\\\.secret\\\\yelp_api.json\")        \n",
    "api_key = keys [\"api_key\"]\n",
    "\n",
    "# These can be whatever you want! But the solution uses \"pizza\"\n",
    "# and \"New York NY\" if you want to compare your work directly\n",
    "term = \"Cappuccino\"\n",
    "location = \"Italy\"\n",
    "\n",
    "# Set up params for request\n",
    "url = \"https://api.yelp.com/v3/businesses/search\"\n",
    "headers = {\n",
    "    \"Authorization\": \"Bearer {}\".format(api_key)\n",
    "}\n",
    "url_params = {\n",
    "    \"term\": term.replace(\" \", \"+\"),\n",
    "    \"location\": location.replace(\" \", \"+\")\n",
    "}\n",
    "\n",
    "# Make the request using requests.get, passing in\n",
    "# url, headers=headers, and params=url_params\n",
    "response = requests.get(url,headers = headers,params = url_params)\n",
    "\n",
    "# Confirm we got a 200 response\n",
    "response"
   ]
  },
  {
   "cell_type": "code",
   "execution_count": 2,
   "metadata": {},
   "outputs": [
    {
     "data": {
      "text/plain": [
       "dict_keys(['businesses', 'total', 'region'])"
      ]
     },
     "execution_count": 2,
     "metadata": {},
     "output_type": "execute_result"
    }
   ],
   "source": [
    "# Get the response body in JSON format\n",
    "response_json = response.json()\n",
    "# View the keys\n",
    "response_json.keys()"
   ]
  },
  {
   "cell_type": "markdown",
   "metadata": {},
   "source": [
    "### Extracting Data\n",
    "\n",
    "Now, retrieve the value associated with the `'businesses'` key, and inspect its contents."
   ]
  },
  {
   "cell_type": "code",
   "execution_count": 3,
   "metadata": {},
   "outputs": [
    {
     "data": {
      "text/plain": [
       "[{'id': 'sUD6ILaFoJkorOwJrfJ8PA',\n",
       "  'alias': 'la-casa-del-tazza-d-oro-roma',\n",
       "  'name': \"La Casa del Tazza d'Oro\",\n",
       "  'image_url': 'https://s3-media3.fl.yelpcdn.com/bphoto/oQl27GOfNHle9A6cIozdcA/o.jpg',\n",
       "  'is_closed': False,\n",
       "  'url': 'https://www.yelp.com/biz/la-casa-del-tazza-d-oro-roma?adjust_creative=qSi3RrNgkwYp-m509fWqtQ&utm_campaign=yelp_api_v3&utm_medium=api_v3_business_search&utm_source=qSi3RrNgkwYp-m509fWqtQ',\n",
       "  'review_count': 330,\n",
       "  'categories': [{'alias': 'coffee', 'title': 'Coffee & Tea'},\n",
       "   {'alias': 'cafes', 'title': 'Cafes'},\n",
       "   {'alias': 'coffeeroasteries', 'title': 'Coffee Roasteries'}],\n",
       "  'rating': 4.5,\n",
       "  'coordinates': {'latitude': 41.8994494630771, 'longitude': 12.4774190950948},\n",
       "  'transactions': [],\n",
       "  'price': '€',\n",
       "  'location': {'address1': 'Via degli Orfani 84',\n",
       "   'address2': '',\n",
       "   'address3': '',\n",
       "   'city': 'Rome',\n",
       "   'zip_code': '00186',\n",
       "   'country': 'IT',\n",
       "   'state': 'RM',\n",
       "   'display_address': ['Via degli Orfani 84', '00186 Rome', 'Italy']},\n",
       "  'phone': '+39066789792',\n",
       "  'display_phone': '+39 06 678 9792',\n",
       "  'distance': 70794.33596296134},\n",
       " {'id': 'XeROO67-ZU75Vu3CEb0Olw',\n",
       "  'alias': 'bar-del-cappuccino-roma',\n",
       "  'name': 'Bar del Cappuccino',\n",
       "  'image_url': 'https://s3-media2.fl.yelpcdn.com/bphoto/CwKVtlYgsyx7P7VnsKowPg/o.jpg',\n",
       "  'is_closed': False,\n",
       "  'url': 'https://www.yelp.com/biz/bar-del-cappuccino-roma?adjust_creative=qSi3RrNgkwYp-m509fWqtQ&utm_campaign=yelp_api_v3&utm_medium=api_v3_business_search&utm_source=qSi3RrNgkwYp-m509fWqtQ',\n",
       "  'review_count': 18,\n",
       "  'categories': [{'alias': 'bars', 'title': 'Bars'},\n",
       "   {'alias': 'cafes', 'title': 'Cafes'}],\n",
       "  'rating': 4.5,\n",
       "  'coordinates': {'latitude': 41.89224, 'longitude': 12.47482},\n",
       "  'transactions': [],\n",
       "  'price': '€',\n",
       "  'location': {'address1': 'Via Arenula 50',\n",
       "   'address2': '',\n",
       "   'address3': '',\n",
       "   'city': 'Rome',\n",
       "   'zip_code': '00186',\n",
       "   'country': 'IT',\n",
       "   'state': 'RM',\n",
       "   'display_address': ['Via Arenula 50', '00186 Rome', 'Italy']},\n",
       "  'phone': '+390668806042',\n",
       "  'display_phone': '+39 06 6880 6042',\n",
       "  'distance': 70057.65083895029}]"
      ]
     },
     "execution_count": 3,
     "metadata": {},
     "output_type": "execute_result"
    }
   ],
   "source": [
    "# Retrieve the value from response_json\n",
    "businesses = response_json[\"businesses\"]\n",
    "\n",
    "# View the first 2 records\n",
    "businesses[:2]"
   ]
  },
  {
   "cell_type": "markdown",
   "metadata": {},
   "source": [
    "### Preparing Data\n",
    "\n",
    "Write a function `prepare_data` that takes in a list of dictionaries like `businesses` and returns a copy that has been prepared for analysis:\n",
    "\n",
    "1. The `coordinates` key-value pair has been converted into two separate key-value pairs, `latitude` and `longitude`\n",
    "2. All other key-value pairs except for `name`, `review_count`, `rating`, and `price` have been dropped\n",
    "3. All dictionaries missing one of the relevant keys or containing null values have been dropped\n",
    "\n",
    "In other words, the final keys for each dictionary should be `name`, `review_count`, `rating`, `price`, `latitude`, and `longitude`.\n",
    "\n",
    "Complete the function in the cell below:"
   ]
  },
  {
   "cell_type": "code",
   "execution_count": 4,
   "metadata": {
    "scrolled": true
   },
   "outputs": [
    {
     "data": {
      "text/plain": [
       "[{'name': \"La Casa del Tazza d'Oro\",\n",
       "  'review_count': 330,\n",
       "  'rating': 4.5,\n",
       "  'price': '€',\n",
       "  'latitude': 41.8994494630771,\n",
       "  'longitude': 12.4774190950948},\n",
       " {'name': 'Bar del Cappuccino',\n",
       "  'review_count': 18,\n",
       "  'rating': 4.5,\n",
       "  'price': '€',\n",
       "  'latitude': 41.89224,\n",
       "  'longitude': 12.47482},\n",
       " {'name': \"Sant' Eustachio Il Caffè\",\n",
       "  'review_count': 358,\n",
       "  'rating': 4.0,\n",
       "  'price': '€',\n",
       "  'latitude': 41.898281,\n",
       "  'longitude': 12.47543},\n",
       " {'name': 'Antico Caffè Greco',\n",
       "  'review_count': 158,\n",
       "  'rating': 4.0,\n",
       "  'price': '€€',\n",
       "  'latitude': 41.9057396199162,\n",
       "  'longitude': 12.4815707621166},\n",
       " {'name': 'Giselda Forno',\n",
       "  'review_count': 25,\n",
       "  'rating': 4.5,\n",
       "  'price': '€',\n",
       "  'latitude': 41.8867989,\n",
       "  'longitude': 12.4719496}]"
      ]
     },
     "execution_count": 4,
     "metadata": {},
     "output_type": "execute_result"
    }
   ],
   "source": [
    "def prepare_data(data_list):\n",
    "    \n",
    "    # Make a new list to hold results\n",
    "    results = []\n",
    "    \n",
    "    for business_data in data_list:\n",
    "    \n",
    "        # Make a new dictionary to hold prepared data for this business\n",
    "        prepared_data = {}\n",
    "       \n",
    "        \n",
    "        # Extract name, review_count, rating, and price key-value pairs\n",
    "        # from business_data and add to prepared_data\n",
    "        # If a key is not present in business_data, add it to prepared_data\n",
    "        # with an associated value of None\n",
    "        keys = ['name', 'review_count', 'rating', 'price']\n",
    "        for key in keys:\n",
    "            prepared_data[key] = business_data.get(key)\n",
    "        \n",
    "            \n",
    "        # Parse and add latitude and longitude columns\n",
    "        coordinates = business_data.get('coordinates')\n",
    "        if coordinates and 'latitude' in coordinates and 'longitude' in coordinates:\n",
    "            prepared_data['latitude'] = coordinates['latitude']\n",
    "            prepared_data['longitude'] = coordinates['longitude']\n",
    "            \n",
    "        # Add to list if all values are present\n",
    "        if all(prepared_data.values()):\n",
    "            results.append(prepared_data)\n",
    "    \n",
    "    return results\n",
    "    \n",
    "# Test out function\n",
    "prepared_businesses = prepare_data(businesses)\n",
    "prepared_businesses[:5]"
   ]
  },
  {
   "cell_type": "markdown",
   "metadata": {},
   "source": [
    "Check that your function created the correct keys:"
   ]
  },
  {
   "cell_type": "code",
   "execution_count": 5,
   "metadata": {},
   "outputs": [],
   "source": [
    "assert sorted(list(prepared_businesses[0].keys())) == ['latitude', 'longitude', 'name', 'price', 'rating', 'review_count']"
   ]
  },
  {
   "cell_type": "markdown",
   "metadata": {},
   "source": [
    "The following code will differ depending on your query, but we expect there to be 20 businesses in the original list, and potentially fewer in the prepared list (if any of them were missing data):"
   ]
  },
  {
   "cell_type": "code",
   "execution_count": 6,
   "metadata": {},
   "outputs": [
    {
     "name": "stdout",
     "output_type": "stream",
     "text": [
      "Original: 20\n",
      "Prepared: 16\n"
     ]
    }
   ],
   "source": [
    "print(\"Original:\", len(businesses))\n",
    "print(\"Prepared:\", len(prepared_businesses))"
   ]
  },
  {
   "cell_type": "markdown",
   "metadata": {},
   "source": [
    "Great! We will reuse this function once we have retrieved the full dataset."
   ]
  },
  {
   "cell_type": "markdown",
   "metadata": {},
   "source": [
    "## 2. Add Pagination\n",
    "\n",
    "Now that you are able to extract information from one page of the response, let's figure out how to request as many pages as possible.\n",
    "\n",
    "### Determining the Total\n",
    "\n",
    "Depending on the number of total results for your query, you will either retrieve all of the results, or just the first 1000 (if there are more than 1000 total).\n",
    "\n",
    "We can find the total number of results using the `\"total\"` key:"
   ]
  },
  {
   "cell_type": "code",
   "execution_count": 7,
   "metadata": {},
   "outputs": [
    {
     "data": {
      "text/plain": [
       "529"
      ]
     },
     "execution_count": 7,
     "metadata": {},
     "output_type": "execute_result"
    }
   ],
   "source": [
    "response_json[\"total\"]"
   ]
  },
  {
   "cell_type": "markdown",
   "metadata": {},
   "source": [
    "(This is specific to the implementation of the Yelp API. Some APIs will just tell you that there are more pages, or will tell you the number of pages total, rather than the total number of results. If you're not sure, always check the documentation.)\n",
    "\n",
    "In the cell below, assign the variable `total` to either the value shown above (if it is less than 1000), or 1000."
   ]
  },
  {
   "cell_type": "code",
   "execution_count": 8,
   "metadata": {},
   "outputs": [],
   "source": [
    "total = response_json[\"total\"]"
   ]
  },
  {
   "cell_type": "markdown",
   "metadata": {},
   "source": [
    "### Calculating the Offsets\n",
    "\n",
    "The documentation states in the parameters section:\n",
    "\n",
    "> **Name**: `limit`, **Type:** int, **Description:** Optional. Number of business results to return. By default, it will return 20. Maximum is 50.\n",
    "\n",
    "> **Name**: `offset`, **Type:** int, **Description:** Optional. Offset the list of returned business results by this amount.\n",
    "\n",
    "So, to get the most results with the fewest API calls we want to set a limit of 50 every time. If, say, we wanted to get 210 total results, that would mean:\n",
    "\n",
    "1. Offset of `0` (first 50 records)\n",
    "2. Offset of `50` (second 50 records)\n",
    "3. Offset of `100` (third 50 records)\n",
    "4. Offset of `150` (fourth 50 records)\n",
    "5. Offset of `200` (final 10 records)\n",
    "\n",
    "In the cell below, create a function `get_offsets` that takes in a total and returns a list of offsets for that total. You can assume that there is a limit of 50 every time.\n",
    "\n",
    "*Hint: you can use `range` ([documentation here](https://docs.python.org/3.3/library/stdtypes.html?highlight=range#range)) to do this in one line of code. Just make the returned result is a list.*"
   ]
  },
  {
   "cell_type": "code",
   "execution_count": 9,
   "metadata": {},
   "outputs": [],
   "source": [
    "def get_offsets(total):\n",
    "    return list(range(0, total, 50))"
   ]
  },
  {
   "cell_type": "markdown",
   "metadata": {},
   "source": [
    "Check that your function works below:"
   ]
  },
  {
   "cell_type": "code",
   "execution_count": 10,
   "metadata": {},
   "outputs": [],
   "source": [
    "assert get_offsets(200) == [0, 50, 100, 150]\n",
    "assert get_offsets(210) == [0, 50, 100, 150, 200]"
   ]
  },
  {
   "cell_type": "markdown",
   "metadata": {},
   "source": [
    "### Putting It All Together\n",
    "\n",
    "Recall that the following variable has already been declared for you:"
   ]
  },
  {
   "cell_type": "code",
   "execution_count": 11,
   "metadata": {},
   "outputs": [
    {
     "data": {
      "text/plain": [
       "{'term': 'Cappuccino', 'location': 'Italy'}"
      ]
     },
     "execution_count": 11,
     "metadata": {},
     "output_type": "execute_result"
    }
   ],
   "source": [
    "url_params"
   ]
  },
  {
   "cell_type": "markdown",
   "metadata": {},
   "source": [
    "We'll go ahead and also specify that the limit should be 50 every time:"
   ]
  },
  {
   "cell_type": "code",
   "execution_count": 12,
   "metadata": {},
   "outputs": [],
   "source": [
    "url_params[\"limit\"] = 50"
   ]
  },
  {
   "cell_type": "markdown",
   "metadata": {},
   "source": [
    "In order to modify the offset, you'll need to add it to `url_params` with the key `\"offset\"` and whatever value is needed.\n",
    "\n",
    "In the cell below, write code that:\n",
    "\n",
    "* Creates an empty list for the full prepared dataset\n",
    "* Loops over all of the offsets from `get_offsets` and makes an API call each time with the specified offset\n",
    "* Calls `prepare_data` to get a cleaned version of the result of each API call\n",
    "* Extends the full prepared dataset list with each query's prepared dataset"
   ]
  },
  {
   "cell_type": "code",
   "execution_count": 13,
   "metadata": {},
   "outputs": [
    {
     "data": {
      "text/plain": [
       "397"
      ]
     },
     "execution_count": 13,
     "metadata": {},
     "output_type": "execute_result"
    }
   ],
   "source": [
    "# Create an empty list for the full prepared dataset\n",
    "full_dataset = []\n",
    "\n",
    "for offset in get_offsets(total):\n",
    "    # Add or update the \"offset\" key-value pair in url_params\n",
    "    url_params[\"offset\"] = offset\n",
    "    \n",
    "    # Make the query and get the response\n",
    "    response = requests.get(url, headers=headers, params=url_params)\n",
    "    \n",
    "    # Get the response body in JSON format\n",
    "    response_json = response.json()\n",
    "    \n",
    "    # Get the list of businesses from the response_json\n",
    "    businesses = response_json[\"businesses\"]\n",
    "    \n",
    "    # Call the prepare_data function to get a list of processed data\n",
    "    prepared_businesses = prepare_data(businesses)\n",
    "    \n",
    "    # Extend full_dataset with this list (don't append, or you'll get\n",
    "    # a list of lists instead of a flat list)\n",
    "    full_dataset.extend(prepared_businesses)\n",
    "\n",
    "# Check the length of the full dataset. It will be up to `total`,\n",
    "# potentially less if there were missing values\n",
    "len(full_dataset)"
   ]
  },
  {
   "cell_type": "markdown",
   "metadata": {},
   "source": [
    "This code may take up to a few minutes to run.\n",
    "\n",
    "If you get an error trying to get the response body in JSON format, try adding `time.sleep(1)` right after the `requests.get` line, so your code will sleep for 1 second between each API call."
   ]
  },
  {
   "cell_type": "markdown",
   "metadata": {},
   "source": [
    "## 3. Perform Exploratory Analysis\n",
    "\n",
    "Take the businesses from the previous question and do an initial exploratory analysis. We have provided some plots for you to interpret:"
   ]
  },
  {
   "cell_type": "code",
   "execution_count": 14,
   "metadata": {},
   "outputs": [
    {
     "data": {
      "image/png": "[encoded data removed]",
      "text/plain": [
       "<Figure size 1152x360 with 3 Axes>"
      ]
     },
     "metadata": {
      "needs_background": "light"
     },
     "output_type": "display_data"
    }
   ],
   "source": [
    "from collections import Counter\n",
    "import matplotlib.pyplot as plt\n",
    "%matplotlib inline\n",
    "\n",
    "fig, (ax1, ax2, ax3) = plt.subplots(ncols=3, figsize=(16, 5))\n",
    "\n",
    "# Plot distribution of number of reviews\n",
    "all_review_counts = [x[\"review_count\"] for x in full_dataset]\n",
    "ax1.hist(all_review_counts)\n",
    "ax1.set_title(\"Review Count Distribution\")\n",
    "ax1.set_xlabel(\"Number of Reviews\")\n",
    "ax1.set_ylabel(\"Number of Businesses\")\n",
    "\n",
    "# Plot rating distribution\n",
    "all_ratings = [x[\"rating\"] for x in full_dataset]\n",
    "rating_counter = Counter(all_ratings)\n",
    "rating_keys = sorted(rating_counter.keys())\n",
    "ax2.bar(rating_keys, [rating_counter[key] for key in rating_keys])\n",
    "ax2.set_title(\"Rating Distribution\")\n",
    "ax2.set_xlabel(\"Rating\")\n",
    "ax2.set_ylabel(\"Number of Businesses\")\n",
    "\n",
    "# Plot price distribution\n",
    "all_prices = [x[\"price\"].replace(\"$\", r\"\\$\") for x in full_dataset]\n",
    "price_counter = Counter(all_prices)\n",
    "price_keys = sorted(price_counter.keys())\n",
    "ax3.bar(price_keys, [price_counter[key] for key in price_keys])\n",
    "ax3.set_title(\"Price Distribution\")\n",
    "ax3.set_xlabel(\"Price Category\")\n",
    "ax3.set_ylabel(\"Number of Businesses\");"
   ]
  },
  {
   "cell_type": "markdown",
   "metadata": {},
   "source": [
    "Describe the distributions displayed above and interpret them in the context of your query. (Your answer may differ from the solution branch depending on your query.)"
   ]
  },
  {
   "cell_type": "code",
   "execution_count": 15,
   "metadata": {},
   "outputs": [
    {
     "data": {
      "text/plain": [
       "'Most of the businesses their review count was around 350 people with highest review count being 1000. \\nMost businesses were rated between 3 to 5.\\nPrice category for most businesses were ££.\\n'"
      ]
     },
     "execution_count": 15,
     "metadata": {},
     "output_type": "execute_result"
    }
   ],
   "source": [
    "\"\"\"Most of the businesses their review count was around 350 people with highest review count being 1000. \n",
    "Most businesses were rated between 3 to 5.\n",
    "Price category for most businesses were ££.\n",
    "\"\"\""
   ]
  },
  {
   "cell_type": "markdown",
   "metadata": {},
   "source": [
    "In the cell below, we also plot the rating distributions by price. In this setup, a price of one dollar sign is \"lower price\" and everything else is \"higher price\"."
   ]
  },
  {
   "cell_type": "code",
   "execution_count": 16,
   "metadata": {},
   "outputs": [
    {
     "data": {
      "image/png": "[encoded data removed]",
      "text/plain": [
       "<Figure size 432x288 with 1 Axes>"
      ]
     },
     "metadata": {
      "needs_background": "light"
     },
     "output_type": "display_data"
    }
   ],
   "source": [
    "higher_price = []\n",
    "lower_price = []\n",
    "for row in full_dataset:\n",
    "    if row[\"price\"] == \"€\":\n",
    "        lower_price.append(row[\"rating\"])\n",
    "    else:\n",
    "        higher_price.append(row[\"rating\"])\n",
    "        \n",
    "fig, ax = plt.subplots()\n",
    "\n",
    "ax.hist([higher_price, lower_price], label=[\"higher price\", \"lower price\"], density=True)\n",
    "\n",
    "ax.legend();"
   ]
  },
  {
   "cell_type": "markdown",
   "metadata": {},
   "source": [
    "Is a higher price associated with a higher rating? (No need for any additional math/statistics, just interpret what you see in the plot.)"
   ]
  },
  {
   "cell_type": "code",
   "execution_count": 17,
   "metadata": {},
   "outputs": [
    {
     "data": {
      "text/plain": [
       "'No.Higher price is not associated with a higher rating. \\nFrom the graph business with lower price are rated highest with a rating of 4.5.\\n'"
      ]
     },
     "execution_count": 17,
     "metadata": {},
     "output_type": "execute_result"
    }
   ],
   "source": [
    "\"\"\"No.Higher price is not associated with a higher rating. \n",
    "From the graph business with lower price are rated highest with a rating of 4.5.\n",
    "\"\"\""
   ]
  },
  {
   "cell_type": "markdown",
   "metadata": {},
   "source": [
    "Finally, let's look at ratings vs. review counts:"
   ]
  },
  {
   "cell_type": "code",
   "execution_count": 18,
   "metadata": {},
   "outputs": [
    {
     "data": {
      "image/png": "[encoded data removed]",
      "text/plain": [
       "<Figure size 1152x360 with 1 Axes>"
      ]
     },
     "metadata": {
      "needs_background": "light"
     },
     "output_type": "display_data"
    }
   ],
   "source": [
    "fig, ax = plt.subplots(figsize=(16,5))\n",
    "\n",
    "ax.scatter(all_review_counts, all_ratings, alpha=0.2)\n",
    "ax.set_xlabel(\"Number of Reviews\")\n",
    "ax.set_ylabel(\"Rating\")\n",
    "# \"zoom in\" to a subset of review counts\n",
    "ax.set_xlim(left=0, right=1000);"
   ]
  },
  {
   "cell_type": "markdown",
   "metadata": {},
   "source": [
    "Is a higher number of reviews associated with a higher rating?"
   ]
  },
  {
   "cell_type": "code",
   "execution_count": 19,
   "metadata": {},
   "outputs": [
    {
     "data": {
      "text/plain": [
       "'Yes, a higher number of reviews is associated with a higher rating. As the number of reviews increases the ratings go up.\\n'"
      ]
     },
     "execution_count": 19,
     "metadata": {},
     "output_type": "execute_result"
    }
   ],
   "source": [
    "\"\"\"Yes, a higher number of reviews is associated with a higher rating. As the number of reviews increases the ratings go up.\n",
    "\"\"\""
   ]
  },
  {
   "cell_type": "markdown",
   "metadata": {},
   "source": [
    "## 4. Create a Folium Map\n",
    "\n",
    "Make a map using Folium of the businesses you retrieved. Be sure to also add popups to the markers giving some basic information such as name, rating and price.\n",
    "\n",
    "You can center the map around the latitude and longitude of the first item in `full_dataset`."
   ]
  },
  {
   "cell_type": "code",
   "execution_count": 20,
   "metadata": {},
   "outputs": [
    {
     "data": {
      "text/html": [
       "<div style=\"width:100%;\"><div style=\"position:relative;width:100%;height:0;padding-bottom:60%;\"><span style=\"color:#565656\">Make this Notebook Trusted to load map: File -> Trust Notebook</span><iframe src=\"about:blank\" style=\"position:absolute;width:100%;height:100%;left:0;top:0;border:none !important;\" data-html=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 onload=\"this.contentDocument.open();this.contentDocument.write(atob(this.getAttribute('data-html')));this.contentDocument.close();\" allowfullscreen webkitallowfullscreen mozallowfullscreen></iframe></div></div>"
      ],
      "text/plain": [
       "<folium.folium.Map at 0x2968ad8fee0>"
      ]
     },
     "execution_count": 20,
     "metadata": {},
     "output_type": "execute_result"
    }
   ],
   "source": [
    "# Import the library\n",
    "import folium\n",
    "\n",
    "# Set up center latitude and longitude\n",
    "center_lat = full_dataset[0][\"latitude\"]\n",
    "center_long = full_dataset[0][\"longitude\"]\n",
    "\n",
    "# Initialize map with center lat and long\n",
    "yelp_map = folium.Map([center_lat,center_long],zoom_start = 13)\n",
    "\n",
    "# Adjust this limit to see more or fewer businesses\n",
    "limit=100\n",
    "\n",
    "for business in full_dataset[:limit]:\n",
    "    # Extract information about business\n",
    "    lat = business[\"latitude\"]\n",
    "    long = business[\"longitude\"]\n",
    "    name = business[\"name\"]\n",
    "    rating = business[\"rating\"]\n",
    "    price = business[\"price\"]\n",
    "    details = \"{}\\nPrice: {} Rating:{}\".format(name,price,rating)\n",
    "    \n",
    "    # Create popup with relevant details\n",
    "    popup = folium.Popup(details,parse_html = True)\n",
    "    \n",
    "    # Create marker with relevant lat/long and popup\n",
    "    marker = folium.Marker(location = [lat,long],popup = popup)\n",
    "    \n",
    "    marker.add_to(yelp_map)\n",
    "    \n",
    "yelp_map"
   ]
  },
  {
   "cell_type": "markdown",
   "metadata": {},
   "source": [
    "## Summary\n",
    "\n",
    "Nice work! In this lab, you've made multiple API calls to Yelp in order to paginate through a results set, performing some basic exploratory analysis and then creating a nice interactive map to display the results using Folium! Well done!"
   ]
  }
 ],
 "metadata": {
  "kernelspec": {
   "display_name": "Python 3",
   "language": "python",
   "name": "python3"
  },
  "language_info": {
   "codemirror_mode": {
    "name": "ipython",
    "version": 3
   },
   "file_extension": ".py",
   "mimetype": "text/x-python",
   "name": "python",
   "nbconvert_exporter": "python",
   "pygments_lexer": "ipython3",
   "version": "3.8.5"
  },
  "toc": {
   "base_numbering": 1,
   "nav_menu": {},
   "number_sections": true,
   "sideBar": true,
   "skip_h1_title": false,
   "title_cell": "Table of Contents",
   "title_sidebar": "Contents",
   "toc_cell": false,
   "toc_position": {},
   "toc_section_display": true,
   "toc_window_display": false
  }
 },
 "nbformat": 4,
 "nbformat_minor": 2
}
